{
 "cells": [
  {
   "cell_type": "code",
   "execution_count": 14,
   "metadata": {},
   "outputs": [],
   "source": [
    "# Import necessary libraries\n",
    "import numpy as np\n",
    "import pandas as pd\n",
    "from datetime import datetime, timedelta\n",
    "import datetime\n",
    "# Ignore warnings\n",
    "import warnings\n",
    "warnings.filterwarnings(\"ignore\")\n",
    "\n",
    "# read the csv file by selecting the path\n",
    "path_file = \"D:/Dropbox/Pastor/data/crypto-active_5min/BTC_5min.txt\"\n",
    "btc = pd.read_csv(path_file, header = None, sep = \",\", names = [\"Date\", \"Open\", \"High\", \"Low\", \"Close\", \"Volume\"])\n",
    "btc[\"Date\"] = pd.to_datetime(btc['Date'])\n",
    "btc.set_index('Date', inplace=True)\n"
   ]
  },
  {
   "cell_type": "code",
   "execution_count": 16,
   "metadata": {},
   "outputs": [],
   "source": [
    "def get_last_N_5m_bars(bars5m, curr_time, lkbk):\n",
    "    '''This function gets the timebars for the 5m resolution based\n",
    "    on the lookback, we've specified.\n",
    "    '''\n",
    "    # Width of the data, arbitrarily chosen\n",
    "    wdw5m = 9\n",
    "\n",
    "    \"\"\"---creating the time bars based on the lookback---\"\"\"\n",
    "    # Reduce the size of the data\n",
    "    curtail_data = bars5m[curr_time-timedelta(wdw5m):curr_time]\n",
    "    # Create candlestick based on lookback window\n",
    "    last5m = curtail_data.iloc[-lkbk:]\n",
    "\n",
    "    '''---Making sure that window lengths agree with lookback---'''\n",
    "    try:\n",
    "        assert(len(last5m) == lkbk)\n",
    "\n",
    "    except Exception as e:\n",
    "        print('****Window length too short****')\n",
    "\n",
    "    return last5m"
   ]
  },
  {
   "cell_type": "code",
   "execution_count": 17,
   "metadata": {},
   "outputs": [
    {
     "data": {
      "text/html": [
       "<div>\n",
       "<style scoped>\n",
       "    .dataframe tbody tr th:only-of-type {\n",
       "        vertical-align: middle;\n",
       "    }\n",
       "\n",
       "    .dataframe tbody tr th {\n",
       "        vertical-align: top;\n",
       "    }\n",
       "\n",
       "    .dataframe thead th {\n",
       "        text-align: right;\n",
       "    }\n",
       "</style>\n",
       "<table border=\"1\" class=\"dataframe\">\n",
       "  <thead>\n",
       "    <tr style=\"text-align: right;\">\n",
       "      <th></th>\n",
       "      <th>Open</th>\n",
       "      <th>High</th>\n",
       "      <th>Low</th>\n",
       "      <th>Close</th>\n",
       "      <th>Volume</th>\n",
       "    </tr>\n",
       "    <tr>\n",
       "      <th>Date</th>\n",
       "      <th></th>\n",
       "      <th></th>\n",
       "      <th></th>\n",
       "      <th></th>\n",
       "      <th></th>\n",
       "    </tr>\n",
       "  </thead>\n",
       "  <tbody>\n",
       "    <tr>\n",
       "      <th>2020-05-10 10:40:00</th>\n",
       "      <td>8750.674</td>\n",
       "      <td>8750.7</td>\n",
       "      <td>8737.2</td>\n",
       "      <td>8740.4</td>\n",
       "      <td>43.775</td>\n",
       "    </tr>\n",
       "    <tr>\n",
       "      <th>2020-05-10 10:45:00</th>\n",
       "      <td>8745.700</td>\n",
       "      <td>8752.7</td>\n",
       "      <td>8738.9</td>\n",
       "      <td>8750.3</td>\n",
       "      <td>12.183</td>\n",
       "    </tr>\n",
       "    <tr>\n",
       "      <th>2020-05-10 10:50:00</th>\n",
       "      <td>8750.100</td>\n",
       "      <td>8755.4</td>\n",
       "      <td>8681.6</td>\n",
       "      <td>8683.1</td>\n",
       "      <td>46.725</td>\n",
       "    </tr>\n",
       "    <tr>\n",
       "      <th>2020-05-10 10:55:00</th>\n",
       "      <td>8686.100</td>\n",
       "      <td>8699.5</td>\n",
       "      <td>8612.2</td>\n",
       "      <td>8670.3</td>\n",
       "      <td>345.735</td>\n",
       "    </tr>\n",
       "    <tr>\n",
       "      <th>2020-05-10 11:00:00</th>\n",
       "      <td>8670.400</td>\n",
       "      <td>8699.4</td>\n",
       "      <td>8670.1</td>\n",
       "      <td>8685.2</td>\n",
       "      <td>40.893</td>\n",
       "    </tr>\n",
       "  </tbody>\n",
       "</table>\n",
       "</div>"
      ],
      "text/plain": [
       "                         Open    High     Low   Close   Volume\n",
       "Date                                                          \n",
       "2020-05-10 10:40:00  8750.674  8750.7  8737.2  8740.4   43.775\n",
       "2020-05-10 10:45:00  8745.700  8752.7  8738.9  8750.3   12.183\n",
       "2020-05-10 10:50:00  8750.100  8755.4  8681.6  8683.1   46.725\n",
       "2020-05-10 10:55:00  8686.100  8699.5  8612.2  8670.3  345.735\n",
       "2020-05-10 11:00:00  8670.400  8699.4  8670.1  8685.2   40.893"
      ]
     },
     "execution_count": 17,
     "metadata": {},
     "output_type": "execute_result"
    }
   ],
   "source": [
    "curr_time = datetime.datetime(2020, 5, 10, 11, 0, 0)\n",
    "lkbk = 5\n",
    "get_last_N_5m_bars(btc, curr_time, lkbk)"
   ]
  },
  {
   "cell_type": "code",
   "execution_count": 18,
   "metadata": {},
   "outputs": [],
   "source": [
    "ohlcv_dict = {\n",
    "    'Open': 'first',\n",
    "    'High': 'max',\n",
    "    'Low': 'min',\n",
    "    'Close': 'last',\n",
    "    'Volume': 'sum'\n",
    "}\n",
    "\n",
    "bars1h = btc.resample('60Min').apply(ohlcv_dict).dropna()\n",
    "bars1d = btc.resample('1440Min').apply(ohlcv_dict).dropna()\n"
   ]
  },
  {
   "cell_type": "code",
   "execution_count": 19,
   "metadata": {},
   "outputs": [],
   "source": [
    "def get_last_N_timebars(bars5m, bars1h, bars1d, curr_time, lkbk):\n",
    "    '''This function gets the timebars for the 5m, 1hr and 1d resolution based\n",
    "    on the lookback, we've specified.\n",
    "    '''\n",
    "\n",
    "    \"\"\" Width of the 5m, 1hr, and 1d\"\"\"\n",
    "    wdw5m = 9\n",
    "    wdw1h = np.ceil(lkbk*15/24.)\n",
    "    wdw1d = np.ceil(lkbk*15)\n",
    "\n",
    "    \"\"\"---creating the timebars based on the lookback---\"\"\"\n",
    "    last5m = bars5m[curr_time-timedelta(wdw5m):curr_time].iloc[-lkbk:]\n",
    "    last1h = bars1h[curr_time-timedelta(wdw1h):curr_time].iloc[-lkbk:]\n",
    "    last1d = bars1d[curr_time-timedelta(wdw1d):curr_time].iloc[-lkbk:]\n",
    "\n",
    "    '''---Making sure that window lengths agree with lookback---'''\n",
    "    try:\n",
    "        assert(len(last5m) == lkbk)\n",
    "        assert(len(last1h) == lkbk)\n",
    "        assert(len(last1d) == lkbk)\n",
    "\n",
    "    except Exception as e:\n",
    "        print('****Window length too short****')\n",
    "\n",
    "    return last5m, last1h, last1d"
   ]
  },
  {
   "cell_type": "code",
   "execution_count": 20,
   "metadata": {},
   "outputs": [
    {
     "data": {
      "text/plain": [
       "(                         Open    High     Low   Close   Volume\n",
       " Date                                                          \n",
       " 2020-05-10 10:40:00  8750.674  8750.7  8737.2  8740.4   43.775\n",
       " 2020-05-10 10:45:00  8745.700  8752.7  8738.9  8750.3   12.183\n",
       " 2020-05-10 10:50:00  8750.100  8755.4  8681.6  8683.1   46.725\n",
       " 2020-05-10 10:55:00  8686.100  8699.5  8612.2  8670.3  345.735\n",
       " 2020-05-10 11:00:00  8670.400  8699.4  8670.1  8685.2   40.893,\n",
       "                          Open     High     Low     Close   Volume\n",
       " Date                                                             \n",
       " 2020-05-10 07:00:00  8821.800  8824.70  8678.1  8735.300  685.127\n",
       " 2020-05-10 08:00:00  8738.300  8774.80  8691.1  8716.862  945.577\n",
       " 2020-05-10 09:00:00  8716.841  8817.04  8696.3  8782.000  506.894\n",
       " 2020-05-10 10:00:00  8781.200  8795.80  8612.2  8670.300  577.785\n",
       " 2020-05-10 11:00:00  8670.400  8721.90  8586.1  8657.800  616.618,\n",
       "                 Open     High      Low     Close     Volume\n",
       " Date                                                       \n",
       " 2020-05-06  8977.379   9418.0  8970.00  9289.048  24895.880\n",
       " 2020-05-07  9289.000  10045.0  9226.52  9922.200  49895.128\n",
       " 2020-05-08  9923.300  10014.0  9705.00  9862.145  25763.557\n",
       " 2020-05-09  9862.200   9872.9  8101.00  8639.198  57680.797\n",
       " 2020-05-10  8639.000   8900.0  8296.60  8698.500  30163.133)"
      ]
     },
     "execution_count": 20,
     "metadata": {},
     "output_type": "execute_result"
    }
   ],
   "source": [
    "curr_time = datetime.datetime(2020, 5, 10, 11, 0, 0)\n",
    "lkbk = 5\n",
    "get_last_N_timebars(btc, bars1h, bars1d, curr_time, lkbk)"
   ]
  },
  {
   "cell_type": "markdown",
   "metadata": {},
   "source": [
    "# Normalize the candlestick using Z-score"
   ]
  },
  {
   "cell_type": "code",
   "execution_count": 21,
   "metadata": {},
   "outputs": [
    {
     "name": "stdout",
     "output_type": "stream",
     "text": [
      "[ 1.44226014  1.6924599   0.42061112  0.9999427   1.00143199  1.56587073\n",
      "  0.72889296  1.01781412  0.97015702  1.47055654  0.1182864   1.13397829\n",
      "  1.10121404  1.53906362  0.0527579   0.06467217  0.05573646  0.69612871\n",
      " -0.21978113  0.28061839  0.28061839  0.29700052 -1.1327124  -0.81847341\n",
      " -0.83783411  0.19721847 -1.21462303 -1.11930884 -1.15207309 -0.80804842\n",
      " -1.83565458 -1.25781228 -1.24440872 -0.6203986  -1.86692955 -0.64720572\n",
      " -0.70826638 -0.05595986 -1.04484463 -0.54295582]\n"
     ]
    }
   ],
   "source": [
    "import numpy as np\n",
    "import pandas as pd\n",
    "from datetime import datetime, timedelta\n",
    "import datetime\n",
    "\n",
    "# read the csv file by selecting the path\n",
    "path_file = \"D:/Dropbox/Pastor/data/crypto-active_5min/BTC_5min.txt\"\n",
    "btc = pd.read_csv(path_file, header = None, sep = \",\", names = [\"Date\", \"Open\", \"High\", \"Low\", \"Close\", \"Volume\"])\n",
    "btc[\"Date\"] = pd.to_datetime(btc['Date'])\n",
    "btc.set_index('Date', inplace=True)\n",
    "\n",
    "curr_time = datetime.datetime(2021, 1, 31, 14, 0, 0)\n",
    "# lookback periods\n",
    "lkbk = 20\n",
    "# width of the data arbitrary choosen\n",
    "wdw5m = 9\n",
    "\n",
    "# Create the time bars based on the lookback\n",
    "last5m = btc[curr_time-timedelta(wdw5m):curr_time].iloc[-lkbk:]\n",
    "last5m_flat = last5m.iloc[-10:,:-1].values.flatten()\n",
    "last5m_flat_mean = np.mean(last5m_flat)\n",
    "last5m_flat_std = np.std(last5m_flat)\n",
    "\n",
    "last5m_norm = (last5m_flat - last5m_flat_mean)/last5m_flat_std\n",
    "print(last5m_norm)\n"
   ]
  },
  {
   "cell_type": "code",
   "execution_count": 25,
   "metadata": {},
   "outputs": [
    {
     "name": "stdout",
     "output_type": "stream",
     "text": [
      "The value of the RSI is 36.631603282857924\n"
     ]
    }
   ],
   "source": [
    "import talib\n",
    "\n",
    "rsi = talib.RSI(last5m['Close'], lkbk-1)\n",
    "print(f'The value of the RSI is {rsi[-1]}')"
   ]
  },
  {
   "cell_type": "code",
   "execution_count": null,
   "metadata": {},
   "outputs": [],
   "source": []
  }
 ],
 "metadata": {
  "interpreter": {
   "hash": "018856fe8cea192e9aca0ec6d319ce5aaed29515e0139f12e4cf38054a146782"
  },
  "kernelspec": {
   "display_name": "Python 3.8.8 64-bit ('py38': conda)",
   "language": "python",
   "name": "python3"
  },
  "language_info": {
   "codemirror_mode": {
    "name": "ipython",
    "version": 3
   },
   "file_extension": ".py",
   "mimetype": "text/x-python",
   "name": "python",
   "nbconvert_exporter": "python",
   "pygments_lexer": "ipython3",
   "version": "3.8.8"
  },
  "orig_nbformat": 4
 },
 "nbformat": 4,
 "nbformat_minor": 2
}
