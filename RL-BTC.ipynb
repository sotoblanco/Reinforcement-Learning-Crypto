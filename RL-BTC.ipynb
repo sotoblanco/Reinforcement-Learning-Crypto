{
 "cells": [
  {
   "cell_type": "code",
   "execution_count": 10,
   "metadata": {},
   "outputs": [],
   "source": [
    "# Import necessary libraries\n",
    "import numpy as np\n",
    "import pandas as pd\n",
    "from datetime import datetime, timedelta\n",
    "import datetime\n",
    "# Ignore warnings\n",
    "import warnings\n",
    "import talib\n",
    "warnings.filterwarnings(\"ignore\")\n",
    "\n",
    "# read the csv file by selecting the path\n",
    "path_file = \"D:/Dropbox/Pastor/data/crypto-active_5min/BTC_5min.txt\"\n",
    "btc = pd.read_csv(path_file, header = None, sep = \",\", names = [\"Date\", \"Open\", \"High\", \"Low\", \"Close\", \"Volume\"])\n",
    "btc[\"Date\"] = pd.to_datetime(btc['Date'])\n",
    "btc.set_index('Date', inplace=True)\n"
   ]
  },
  {
   "cell_type": "code",
   "execution_count": 11,
   "metadata": {},
   "outputs": [],
   "source": [
    "ohlcv_dict = {\n",
    "        'Open': 'first',\n",
    "        'High': 'max',\n",
    "        'Low': 'min',\n",
    "        'Close': 'last',\n",
    "        'Volume': 'sum'\n",
    "    }\n",
    "bars1h = btc.resample('60Min').apply(ohlcv_dict).dropna()\n",
    "bars1d = btc.resample('1440Min').apply(ohlcv_dict).dropna()"
   ]
  },
  {
   "cell_type": "code",
   "execution_count": 12,
   "metadata": {},
   "outputs": [],
   "source": [
    "def get_last_N_timebars(bars5m, bars1h, bars1d, curr_time, lkbk):\n",
    "    '''This function gets the timebars for the 5m, 1hr and 1d resolution based\n",
    "    on the lookback we've specified.\n",
    "    '''\n",
    "   \n",
    "    \"\"\"Width of the 5m, 1hr, and 1d\"\"\"\n",
    "    wdw5m = 9\n",
    "    wdw1h = np.ceil(lkbk*15/24.)\n",
    "    wdw1d = np.ceil(lkbk*15)\n",
    "\n",
    "    \"\"\"Creating the timebars based on the lookback\"\"\"\n",
    "    last5m = bars5m[curr_time-timedelta(wdw5m):curr_time].iloc[-lkbk:]\n",
    "    last1h = bars1h[curr_time-timedelta(wdw1h):curr_time].iloc[-lkbk:]\n",
    "    last1d = bars1d[curr_time-timedelta(wdw1d):curr_time].iloc[-lkbk:]\n",
    "    \n",
    "    return last5m, last1h, last1d"
   ]
  },
  {
   "cell_type": "code",
   "execution_count": 13,
   "metadata": {},
   "outputs": [
    {
     "data": {
      "text/html": [
       "<div>\n",
       "<style scoped>\n",
       "    .dataframe tbody tr th:only-of-type {\n",
       "        vertical-align: middle;\n",
       "    }\n",
       "\n",
       "    .dataframe tbody tr th {\n",
       "        vertical-align: top;\n",
       "    }\n",
       "\n",
       "    .dataframe thead th {\n",
       "        text-align: right;\n",
       "    }\n",
       "</style>\n",
       "<table border=\"1\" class=\"dataframe\">\n",
       "  <thead>\n",
       "    <tr style=\"text-align: right;\">\n",
       "      <th></th>\n",
       "      <th>Open</th>\n",
       "      <th>High</th>\n",
       "      <th>Low</th>\n",
       "      <th>Close</th>\n",
       "      <th>Volume</th>\n",
       "    </tr>\n",
       "    <tr>\n",
       "      <th>Date</th>\n",
       "      <th></th>\n",
       "      <th></th>\n",
       "      <th></th>\n",
       "      <th></th>\n",
       "      <th></th>\n",
       "    </tr>\n",
       "  </thead>\n",
       "  <tbody>\n",
       "    <tr>\n",
       "      <th>2020-05-31 09:25:00</th>\n",
       "      <td>9575.900</td>\n",
       "      <td>9590.500</td>\n",
       "      <td>9575.700</td>\n",
       "      <td>9590.400</td>\n",
       "      <td>17.053</td>\n",
       "    </tr>\n",
       "    <tr>\n",
       "      <th>2020-05-31 09:30:00</th>\n",
       "      <td>9590.500</td>\n",
       "      <td>9590.500</td>\n",
       "      <td>9579.900</td>\n",
       "      <td>9584.357</td>\n",
       "      <td>59.596</td>\n",
       "    </tr>\n",
       "    <tr>\n",
       "      <th>2020-05-31 09:35:00</th>\n",
       "      <td>9584.395</td>\n",
       "      <td>9584.395</td>\n",
       "      <td>9577.900</td>\n",
       "      <td>9577.900</td>\n",
       "      <td>15.313</td>\n",
       "    </tr>\n",
       "    <tr>\n",
       "      <th>2020-05-31 09:40:00</th>\n",
       "      <td>9574.700</td>\n",
       "      <td>9577.900</td>\n",
       "      <td>9568.200</td>\n",
       "      <td>9572.500</td>\n",
       "      <td>3.444</td>\n",
       "    </tr>\n",
       "    <tr>\n",
       "      <th>2020-05-31 09:45:00</th>\n",
       "      <td>9569.700</td>\n",
       "      <td>9571.000</td>\n",
       "      <td>9565.415</td>\n",
       "      <td>9565.415</td>\n",
       "      <td>2.541</td>\n",
       "    </tr>\n",
       "    <tr>\n",
       "      <th>2020-05-31 09:50:00</th>\n",
       "      <td>9564.600</td>\n",
       "      <td>9566.200</td>\n",
       "      <td>9542.400</td>\n",
       "      <td>9542.400</td>\n",
       "      <td>85.851</td>\n",
       "    </tr>\n",
       "    <tr>\n",
       "      <th>2020-05-31 09:55:00</th>\n",
       "      <td>9566.100</td>\n",
       "      <td>9566.200</td>\n",
       "      <td>9558.743</td>\n",
       "      <td>9562.100</td>\n",
       "      <td>20.264</td>\n",
       "    </tr>\n",
       "    <tr>\n",
       "      <th>2020-05-31 10:00:00</th>\n",
       "      <td>9558.743</td>\n",
       "      <td>9558.743</td>\n",
       "      <td>9531.800</td>\n",
       "      <td>9539.900</td>\n",
       "      <td>29.563</td>\n",
       "    </tr>\n",
       "    <tr>\n",
       "      <th>2020-05-31 10:05:00</th>\n",
       "      <td>9539.921</td>\n",
       "      <td>9562.200</td>\n",
       "      <td>9539.921</td>\n",
       "      <td>9556.700</td>\n",
       "      <td>19.334</td>\n",
       "    </tr>\n",
       "    <tr>\n",
       "      <th>2020-05-31 10:10:00</th>\n",
       "      <td>9551.080</td>\n",
       "      <td>9552.800</td>\n",
       "      <td>9538.000</td>\n",
       "      <td>9541.402</td>\n",
       "      <td>69.276</td>\n",
       "    </tr>\n",
       "    <tr>\n",
       "      <th>2020-05-31 10:15:00</th>\n",
       "      <td>9541.400</td>\n",
       "      <td>9542.000</td>\n",
       "      <td>9538.000</td>\n",
       "      <td>9539.000</td>\n",
       "      <td>26.064</td>\n",
       "    </tr>\n",
       "    <tr>\n",
       "      <th>2020-05-31 10:20:00</th>\n",
       "      <td>9538.087</td>\n",
       "      <td>9538.087</td>\n",
       "      <td>9526.100</td>\n",
       "      <td>9533.132</td>\n",
       "      <td>13.615</td>\n",
       "    </tr>\n",
       "    <tr>\n",
       "      <th>2020-05-31 10:25:00</th>\n",
       "      <td>9533.132</td>\n",
       "      <td>9547.574</td>\n",
       "      <td>9527.100</td>\n",
       "      <td>9547.500</td>\n",
       "      <td>18.923</td>\n",
       "    </tr>\n",
       "    <tr>\n",
       "      <th>2020-05-31 10:30:00</th>\n",
       "      <td>9547.500</td>\n",
       "      <td>9547.500</td>\n",
       "      <td>9533.300</td>\n",
       "      <td>9535.600</td>\n",
       "      <td>10.045</td>\n",
       "    </tr>\n",
       "    <tr>\n",
       "      <th>2020-05-31 10:35:00</th>\n",
       "      <td>9535.600</td>\n",
       "      <td>9545.200</td>\n",
       "      <td>9535.500</td>\n",
       "      <td>9545.200</td>\n",
       "      <td>6.701</td>\n",
       "    </tr>\n",
       "    <tr>\n",
       "      <th>2020-05-31 10:40:00</th>\n",
       "      <td>9545.200</td>\n",
       "      <td>9545.200</td>\n",
       "      <td>9535.700</td>\n",
       "      <td>9535.700</td>\n",
       "      <td>5.514</td>\n",
       "    </tr>\n",
       "    <tr>\n",
       "      <th>2020-05-31 10:45:00</th>\n",
       "      <td>9535.700</td>\n",
       "      <td>9535.700</td>\n",
       "      <td>9511.600</td>\n",
       "      <td>9526.200</td>\n",
       "      <td>33.531</td>\n",
       "    </tr>\n",
       "    <tr>\n",
       "      <th>2020-05-31 10:50:00</th>\n",
       "      <td>9526.200</td>\n",
       "      <td>9526.200</td>\n",
       "      <td>9520.300</td>\n",
       "      <td>9525.206</td>\n",
       "      <td>23.016</td>\n",
       "    </tr>\n",
       "    <tr>\n",
       "      <th>2020-05-31 10:55:00</th>\n",
       "      <td>9525.200</td>\n",
       "      <td>9525.206</td>\n",
       "      <td>9460.592</td>\n",
       "      <td>9469.900</td>\n",
       "      <td>356.885</td>\n",
       "    </tr>\n",
       "    <tr>\n",
       "      <th>2020-05-31 11:00:00</th>\n",
       "      <td>9468.700</td>\n",
       "      <td>9494.300</td>\n",
       "      <td>9455.600</td>\n",
       "      <td>9484.900</td>\n",
       "      <td>58.621</td>\n",
       "    </tr>\n",
       "  </tbody>\n",
       "</table>\n",
       "</div>"
      ],
      "text/plain": [
       "                         Open      High       Low     Close   Volume\n",
       "Date                                                                \n",
       "2020-05-31 09:25:00  9575.900  9590.500  9575.700  9590.400   17.053\n",
       "2020-05-31 09:30:00  9590.500  9590.500  9579.900  9584.357   59.596\n",
       "2020-05-31 09:35:00  9584.395  9584.395  9577.900  9577.900   15.313\n",
       "2020-05-31 09:40:00  9574.700  9577.900  9568.200  9572.500    3.444\n",
       "2020-05-31 09:45:00  9569.700  9571.000  9565.415  9565.415    2.541\n",
       "2020-05-31 09:50:00  9564.600  9566.200  9542.400  9542.400   85.851\n",
       "2020-05-31 09:55:00  9566.100  9566.200  9558.743  9562.100   20.264\n",
       "2020-05-31 10:00:00  9558.743  9558.743  9531.800  9539.900   29.563\n",
       "2020-05-31 10:05:00  9539.921  9562.200  9539.921  9556.700   19.334\n",
       "2020-05-31 10:10:00  9551.080  9552.800  9538.000  9541.402   69.276\n",
       "2020-05-31 10:15:00  9541.400  9542.000  9538.000  9539.000   26.064\n",
       "2020-05-31 10:20:00  9538.087  9538.087  9526.100  9533.132   13.615\n",
       "2020-05-31 10:25:00  9533.132  9547.574  9527.100  9547.500   18.923\n",
       "2020-05-31 10:30:00  9547.500  9547.500  9533.300  9535.600   10.045\n",
       "2020-05-31 10:35:00  9535.600  9545.200  9535.500  9545.200    6.701\n",
       "2020-05-31 10:40:00  9545.200  9545.200  9535.700  9535.700    5.514\n",
       "2020-05-31 10:45:00  9535.700  9535.700  9511.600  9526.200   33.531\n",
       "2020-05-31 10:50:00  9526.200  9526.200  9520.300  9525.206   23.016\n",
       "2020-05-31 10:55:00  9525.200  9525.206  9460.592  9469.900  356.885\n",
       "2020-05-31 11:00:00  9468.700  9494.300  9455.600  9484.900   58.621"
      ]
     },
     "execution_count": 13,
     "metadata": {},
     "output_type": "execute_result"
    }
   ],
   "source": [
    "# Set the current time\n",
    "curr_time = datetime.datetime(2020, 5, 31, 11, 0, 0)\n",
    "\n",
    "# Fixed the lookback period to get last time bars from the current time.\n",
    "# This is also used to calculate the value of technical indicators. This is a hyperparameter that you can tweak.\n",
    "lkbk = 20\n",
    "\n",
    "# Store the last N time bars for 5mins, 1h, and 1d bars\n",
    "last5m, last1h, last1d = get_last_N_timebars(\n",
    "    btc, bars1h, bars1d, curr_time, lkbk)\n",
    "\n",
    "last5m"
   ]
  },
  {
   "cell_type": "code",
   "execution_count": 14,
   "metadata": {},
   "outputs": [
    {
     "data": {
      "text/plain": [
       "(0,)"
      ]
     },
     "execution_count": 14,
     "metadata": {},
     "output_type": "execute_result"
    }
   ],
   "source": [
    "\"\"\"Adding State Variable\"\"\"\n",
    "state = np.array([])\n",
    "state.shape"
   ]
  },
  {
   "cell_type": "code",
   "execution_count": 15,
   "metadata": {},
   "outputs": [
    {
     "data": {
      "text/plain": [
       "array([9541.4  , 9542.   , 9538.   , 9539.   , 9538.087, 9538.087,\n",
       "       9526.1  , 9533.132, 9533.132, 9547.574, 9527.1  , 9547.5  ,\n",
       "       9547.5  , 9547.5  , 9533.3  , 9535.6  , 9535.6  , 9545.2  ,\n",
       "       9535.5  , 9545.2  , 9545.2  , 9545.2  , 9535.7  , 9535.7  ,\n",
       "       9535.7  , 9535.7  , 9511.6  , 9526.2  , 9526.2  , 9526.2  ,\n",
       "       9520.3  , 9525.206, 9525.2  , 9525.206, 9460.592, 9469.9  ,\n",
       "       9468.7  , 9494.3  , 9455.6  , 9484.9  ])"
      ]
     },
     "execution_count": 15,
     "metadata": {},
     "output_type": "execute_result"
    }
   ],
   "source": [
    "last5m_flat = last5m.iloc[-10:, :-1].values.flatten()\n",
    "last5m_flat"
   ]
  },
  {
   "cell_type": "code",
   "execution_count": 16,
   "metadata": {},
   "outputs": [
    {
     "name": "stdout",
     "output_type": "stream",
     "text": [
      "Shape of the array: (40,)\n"
     ]
    }
   ],
   "source": [
    "print('Shape of the array:', last5m_flat.shape)"
   ]
  },
  {
   "cell_type": "markdown",
   "metadata": {},
   "source": [
    "# Create stationary candlestick bars\n",
    "This is done by calculating Z-scores"
   ]
  },
  {
   "cell_type": "code",
   "execution_count": 17,
   "metadata": {},
   "outputs": [
    {
     "data": {
      "text/plain": [
       "array([ 0.64136501,  0.66594686,  0.50206787,  0.54303762,  0.50563224,\n",
       "        0.50563224,  0.01452787,  0.30262714,  0.30262714,  0.89431224,\n",
       "        0.05549762,  0.89128048,  0.89128048,  0.89128048,  0.30951006,\n",
       "        0.40374048,  0.40374048,  0.79705006,  0.3996435 ,  0.79705006,\n",
       "        0.79705006,  0.79705006,  0.40783745,  0.40783745,  0.40783745,\n",
       "        0.40783745, -0.57953347,  0.01862485,  0.01862485,  0.01862485,\n",
       "       -0.22309667, -0.02209908, -0.0223449 , -0.02209908, -2.66931837,\n",
       "       -2.28797196, -2.33713565, -1.28831011, -2.87383935, -1.67342574])"
      ]
     },
     "execution_count": 17,
     "metadata": {},
     "output_type": "execute_result"
    }
   ],
   "source": [
    "\"\"\"Normalizing candlesticks for 5 mins data\"\"\"\n",
    "last5m_norm = (last5m_flat-np.mean(last5m_flat))/np.std(last5m_flat)\n",
    "last5m_norm"
   ]
  },
  {
   "cell_type": "code",
   "execution_count": 18,
   "metadata": {},
   "outputs": [
    {
     "data": {
      "text/plain": [
       "(40,)"
      ]
     },
     "execution_count": 18,
     "metadata": {},
     "output_type": "execute_result"
    }
   ],
   "source": [
    "last5m_norm.shape"
   ]
  },
  {
   "cell_type": "code",
   "execution_count": 19,
   "metadata": {},
   "outputs": [
    {
     "data": {
      "text/plain": [
       "array([ 0.64136501,  0.66594686,  0.50206787,  0.54303762,  0.50563224,\n",
       "        0.50563224,  0.01452787,  0.30262714,  0.30262714,  0.89431224,\n",
       "        0.05549762,  0.89128048,  0.89128048,  0.89128048,  0.30951006,\n",
       "        0.40374048,  0.40374048,  0.79705006,  0.3996435 ,  0.79705006,\n",
       "        0.79705006,  0.79705006,  0.40783745,  0.40783745,  0.40783745,\n",
       "        0.40783745, -0.57953347,  0.01862485,  0.01862485,  0.01862485,\n",
       "       -0.22309667, -0.02209908, -0.0223449 , -0.02209908, -2.66931837,\n",
       "       -2.28797196, -2.33713565, -1.28831011, -2.87383935, -1.67342574,\n",
       "        0.37593974,  0.54310346, -0.27210589,  0.06661817,  0.03082682,\n",
       "        0.66904872, -0.63849211,  0.40934959,  0.40934959,  0.53623371,\n",
       "       -0.56750478, -0.3888915 , -0.50796702,  0.27014572, -1.45715922,\n",
       "        0.26831379,  0.26950455,  1.13390124, -0.10883503,  1.13161132,\n",
       "        1.10184244,  1.13390124,  0.54539337,  0.81622149,  0.81789312,\n",
       "        2.10482473,  0.24541465,  0.57745216,  0.57745216,  0.90261994,\n",
       "       -0.43697969,  0.25228439,  0.17541198,  0.25457431, -2.07216139,\n",
       "       -1.85901621, -1.88649518, -1.30027722, -2.50935175, -1.61399542,\n",
       "       -0.68229228,  0.35891723, -0.84456294,  0.2810469 ,  0.28099466,\n",
       "        0.3879431 , -0.3959515 ,  0.00401138,  0.00408321,  0.36312908,\n",
       "       -1.87434494, -1.36467794, -1.35520943, -0.75216335, -1.71109478,\n",
       "       -0.96047055, -0.97548957, -0.59021919, -1.59714617, -1.15212624,\n",
       "       -1.15235805,  0.29035216, -1.21667535, -0.06063568, -0.06161518,\n",
       "        1.42428776, -0.24772036,  1.08897193,  1.08920048,  1.32535816,\n",
       "        0.42193179,  0.6370955 ,  0.6370955 ,  1.81510864,  0.63546299,\n",
       "        1.28226012,  1.28209687,  1.54332977,  0.68084654,  1.16122972])"
      ]
     },
     "execution_count": 19,
     "metadata": {},
     "output_type": "execute_result"
    }
   ],
   "source": [
    "\"\"\"Adding candlesticks\"\"\"\n",
    "def get_normalised_bars_array(bars):\n",
    "    bars = bars.iloc[-10:, :-1].values.flatten()\n",
    "\n",
    "    \"\"\"Normalizing candlesticks\"\"\"\n",
    "    bars = (bars-np.mean(bars))/np.std(bars)\n",
    "    return bars\n",
    "\n",
    "\n",
    "\"\"\"\" Append normalised candlestick bars for all granularity\"\"\"\n",
    "state = np.append(state, get_normalised_bars_array(last5m))\n",
    "state = np.append(state, get_normalised_bars_array(last1h))\n",
    "state = np.append(state, get_normalised_bars_array(last1d))\n",
    "state"
   ]
  },
  {
   "cell_type": "code",
   "execution_count": 20,
   "metadata": {},
   "outputs": [
    {
     "data": {
      "text/plain": [
       "(120,)"
      ]
     },
     "execution_count": 20,
     "metadata": {},
     "output_type": "execute_result"
    }
   ],
   "source": [
    "state.shape"
   ]
  },
  {
   "cell_type": "markdown",
   "metadata": {},
   "source": [
    "# Technical Indicators\n",
    "We create technical indicators to the stay array. We will be using:\n",
    "\n",
    "    1. Relative differences between two moving averages\n",
    "    2. RSI\n",
    "    3. Momentum\n",
    "    4. Balance of Power\n",
    "    5. Aroon Oscilator\n",
    "    "
   ]
  },
  {
   "cell_type": "code",
   "execution_count": 21,
   "metadata": {},
   "outputs": [
    {
     "data": {
      "text/plain": [
       "array([ 1.35872359e-03,  2.94295653e+01, -1.05500000e+02,  4.18604651e-01,\n",
       "       -1.00000000e+02])"
      ]
     },
     "execution_count": 21,
     "metadata": {},
     "output_type": "execute_result"
    }
   ],
   "source": [
    "# create an array that stores the technical indicators:\n",
    "tech_ind = np.array([])\n",
    "# lkbk is lookback period we are using 19 SMA and 12 SMA given that our lkbk is 20\n",
    "\n",
    "\"\"\"Relative differences between two moving averages\"\"\"\n",
    "sma1 = talib.SMA(last5m['Close'], lkbk-1)[-1]\n",
    "sma2 = talib.SMA(last5m['Close'], lkbk-8)[-1]\n",
    "tech_ind = np.append(tech_ind, (sma1-sma2)/sma2)\n",
    "\n",
    "\"\"\"Relative Strength Index\"\"\"\n",
    "tech_ind = np.append(tech_ind, talib.RSI(\n",
    "    last5m['Close'], lkbk-1)[-1])\n",
    "\n",
    "\"\"\"Momentum\"\"\"\n",
    "tech_ind = np.append(tech_ind, talib.MOM(\n",
    "    last5m['Close'], lkbk-1)[-1])\n",
    "\n",
    "\"\"\"Balance of Power\"\"\"\n",
    "tech_ind = np.append(tech_ind, talib.BOP(last5m['Open'],\n",
    "                                         last5m['High'],\n",
    "                                         last5m['Low'],\n",
    "                                         last5m['Close'])[-1])\n",
    "\"\"\"Aroon Oscillator\"\"\"\n",
    "tech_ind = np.append(tech_ind, talib.AROONOSC(last5m['High'],\n",
    "                                              last5m['Low'],\n",
    "                                              lkbk-3)[-1])\n",
    "tech_ind"
   ]
  },
  {
   "cell_type": "code",
   "execution_count": 22,
   "metadata": {},
   "outputs": [],
   "source": [
    "def get_technical_indicators(bars):\n",
    "    # Create an array to store the value of indicators\n",
    "    tech_ind = np.array([])\n",
    "\n",
    "    \"\"\"Relative difference two moving averages\"\"\"\n",
    "    sma1 = talib.SMA(bars['Close'], lkbk-1)[-1]\n",
    "    sma2 = talib.SMA(bars['Close'], lkbk-8)[-1]\n",
    "    tech_ind = np.append(tech_ind, (sma1-sma2)/sma2)\n",
    "\n",
    "    \"\"\"Relative Strength Index\"\"\"\n",
    "    tech_ind = np.append(tech_ind, talib.RSI(\n",
    "        bars['Close'], lkbk-1)[-1])\n",
    "\n",
    "    \"\"\"Momentum\"\"\"\n",
    "    tech_ind = np.append(tech_ind, talib.MOM(\n",
    "        bars['Close'], lkbk-1)[-1])\n",
    "\n",
    "    \"\"\"Balance of Power\"\"\"\n",
    "    tech_ind = np.append(tech_ind, talib.BOP(bars['Open'],\n",
    "                                             bars['High'],\n",
    "                                             bars['Low'],\n",
    "                                             bars['Close'])[-1])\n",
    "\n",
    "    \"\"\"Aroon Oscillator\"\"\"\n",
    "    tech_ind = np.append(tech_ind, talib.AROONOSC(bars['High'],\n",
    "                                                  bars['Low'],\n",
    "                                                  lkbk-3)[-1])\n",
    "    return tech_ind"
   ]
  },
  {
   "cell_type": "code",
   "execution_count": 23,
   "metadata": {},
   "outputs": [
    {
     "data": {
      "text/plain": [
       "array([ 6.41365015e-01,  6.65946864e-01,  5.02067872e-01,  5.43037620e-01,\n",
       "        5.05632240e-01,  5.05632240e-01,  1.45278726e-02,  3.02627140e-01,\n",
       "        3.02627140e-01,  8.94312238e-01,  5.54976205e-02,  8.91280477e-01,\n",
       "        8.91280477e-01,  8.91280477e-01,  3.09510057e-01,  4.03740477e-01,\n",
       "        4.03740477e-01,  7.97050057e-01,  3.99643503e-01,  7.97050057e-01,\n",
       "        7.97050057e-01,  7.97050057e-01,  4.07837452e-01,  4.07837452e-01,\n",
       "        4.07837452e-01,  4.07837452e-01, -5.79533471e-01,  1.86248474e-02,\n",
       "        1.86248474e-02,  1.86248474e-02, -2.23096665e-01, -2.20990820e-02,\n",
       "       -2.23449005e-02, -2.20990820e-02, -2.66931837e+00, -2.28797196e+00,\n",
       "       -2.33713565e+00, -1.28831011e+00, -2.87383935e+00, -1.67342574e+00,\n",
       "        3.75939742e-01,  5.43103456e-01, -2.72105887e-01,  6.66181748e-02,\n",
       "        3.08268207e-02,  6.69048720e-01, -6.38492109e-01,  4.09349586e-01,\n",
       "        4.09349586e-01,  5.36233714e-01, -5.67504778e-01, -3.88891495e-01,\n",
       "       -5.07967017e-01,  2.70145721e-01, -1.45715922e+00,  2.68313790e-01,\n",
       "        2.69504545e-01,  1.13390124e+00, -1.08835027e-01,  1.13161132e+00,\n",
       "        1.10184244e+00,  1.13390124e+00,  5.45393370e-01,  8.16221485e-01,\n",
       "        8.17893122e-01,  2.10482473e+00,  2.45414651e-01,  5.77452164e-01,\n",
       "        5.77452164e-01,  9.02619936e-01, -4.36979687e-01,  2.52284393e-01,\n",
       "        1.75411983e-01,  2.54574307e-01, -2.07216139e+00, -1.85901621e+00,\n",
       "       -1.88649518e+00, -1.30027722e+00, -2.50935175e+00, -1.61399542e+00,\n",
       "       -6.82292282e-01,  3.58917227e-01, -8.44562939e-01,  2.81046901e-01,\n",
       "        2.80994661e-01,  3.87943105e-01, -3.95951504e-01,  4.01138288e-03,\n",
       "        4.08321295e-03,  3.63129081e-01, -1.87434494e+00, -1.36467794e+00,\n",
       "       -1.35520943e+00, -7.52163349e-01, -1.71109478e+00, -9.60470551e-01,\n",
       "       -9.75489566e-01, -5.90219193e-01, -1.59714617e+00, -1.15212624e+00,\n",
       "       -1.15235805e+00,  2.90352160e-01, -1.21667535e+00, -6.06356797e-02,\n",
       "       -6.16151807e-02,  1.42428776e+00, -2.47720361e-01,  1.08897193e+00,\n",
       "        1.08920048e+00,  1.32535816e+00,  4.21931788e-01,  6.37095496e-01,\n",
       "        6.37095496e-01,  1.81510864e+00,  6.35462994e-01,  1.28226012e+00,\n",
       "        1.28209687e+00,  1.54332977e+00,  6.80846538e-01,  1.16122972e+00,\n",
       "        1.35872359e-03,  2.94295653e+01, -1.05500000e+02,  4.18604651e-01,\n",
       "       -1.00000000e+02,  3.04583979e-03,  5.23232020e+01,  4.06000000e+01,\n",
       "        2.25378788e-01, -9.41176471e+01,  1.34020845e-02,  5.72981450e+01,\n",
       "        6.45531000e+02, -1.40138552e-01, -4.11764706e+01])"
      ]
     },
     "execution_count": 23,
     "metadata": {},
     "output_type": "execute_result"
    }
   ],
   "source": [
    "state = np.append(state, get_technical_indicators(last5m))\n",
    "state = np.append(state, get_technical_indicators(last1h))\n",
    "state = np.append(state, get_technical_indicators(last1d))\n",
    "state"
   ]
  },
  {
   "cell_type": "code",
   "execution_count": 24,
   "metadata": {},
   "outputs": [
    {
     "data": {
      "text/plain": [
       "(135,)"
      ]
     },
     "execution_count": 24,
     "metadata": {},
     "output_type": "execute_result"
    }
   ],
   "source": [
    "state.shape"
   ]
  },
  {
   "cell_type": "markdown",
   "metadata": {},
   "source": [
    "We have 5 technical indicators, for each granularity data we get 5 values. The size of the technical indicators is 15(5*3). And the total size of the state array is 135, that is (120+15)\n",
    "\n",
    "# Time Signature\n",
    "We add time of the day, day of the week and position of the state array.\n",
    "\n",
    "# Time of the day \n",
    "To calculate the time of the day, we use hours and minutes from the current time. We divide by 24*60 to convert the time into an hour and finally normalise it."
   ]
  },
  {
   "cell_type": "code",
   "execution_count": 25,
   "metadata": {},
   "outputs": [
    {
     "name": "stdout",
     "output_type": "stream",
     "text": [
      "Time of the day: 0.4583333333333333\n"
     ]
    }
   ],
   "source": [
    "# Extract hours and minutes from current time and map that into float\n",
    "tm_lst = list(map(float, str(curr_time.time()).split(':')[:2]))\n",
    "\n",
    "# Calculate time of the day\n",
    "_time_of_day = (tm_lst[0]*60 + tm_lst[1])/(24*60)\n",
    "print('Time of the day:', _time_of_day)"
   ]
  },
  {
   "cell_type": "markdown",
   "metadata": {},
   "source": [
    "### Day of the week\n",
    "\n",
    "We use `weekday()` property of datetime to get the day of the week as an integer. Then we divide it by 6 to normalise it.\n",
    "\n",
    "\n",
    "Syntax: \n",
    "```python\n",
    "DatetimeIndex.weekday()\n",
    "```\n",
    " \n",
    "Returns:\n",
    "\n",
    "Integers indicating the day of the week. The day of the week with: <br>\n",
    "Monday = 0, \n",
    "Tuesday = 1,\n",
    "Wednesday = 2,\n",
    "Thursday = 3,\n",
    "Friday = 4,\n",
    "Saturday = 5,\n",
    "Sunday = 6"
   ]
  },
  {
   "cell_type": "code",
   "execution_count": 26,
   "metadata": {},
   "outputs": [
    {
     "name": "stdout",
     "output_type": "stream",
     "text": [
      "Day of the Week: 1.0\n"
     ]
    }
   ],
   "source": [
    "_day_of_week = curr_time.weekday()/6\n",
    "print('Day of the Week:', _day_of_week)"
   ]
  },
  {
   "cell_type": "code",
   "execution_count": 27,
   "metadata": {},
   "outputs": [
    {
     "data": {
      "text/plain": [
       "array([ 6.41365015e-01,  6.65946864e-01,  5.02067872e-01,  5.43037620e-01,\n",
       "        5.05632240e-01,  5.05632240e-01,  1.45278726e-02,  3.02627140e-01,\n",
       "        3.02627140e-01,  8.94312238e-01,  5.54976205e-02,  8.91280477e-01,\n",
       "        8.91280477e-01,  8.91280477e-01,  3.09510057e-01,  4.03740477e-01,\n",
       "        4.03740477e-01,  7.97050057e-01,  3.99643503e-01,  7.97050057e-01,\n",
       "        7.97050057e-01,  7.97050057e-01,  4.07837452e-01,  4.07837452e-01,\n",
       "        4.07837452e-01,  4.07837452e-01, -5.79533471e-01,  1.86248474e-02,\n",
       "        1.86248474e-02,  1.86248474e-02, -2.23096665e-01, -2.20990820e-02,\n",
       "       -2.23449005e-02, -2.20990820e-02, -2.66931837e+00, -2.28797196e+00,\n",
       "       -2.33713565e+00, -1.28831011e+00, -2.87383935e+00, -1.67342574e+00,\n",
       "        3.75939742e-01,  5.43103456e-01, -2.72105887e-01,  6.66181748e-02,\n",
       "        3.08268207e-02,  6.69048720e-01, -6.38492109e-01,  4.09349586e-01,\n",
       "        4.09349586e-01,  5.36233714e-01, -5.67504778e-01, -3.88891495e-01,\n",
       "       -5.07967017e-01,  2.70145721e-01, -1.45715922e+00,  2.68313790e-01,\n",
       "        2.69504545e-01,  1.13390124e+00, -1.08835027e-01,  1.13161132e+00,\n",
       "        1.10184244e+00,  1.13390124e+00,  5.45393370e-01,  8.16221485e-01,\n",
       "        8.17893122e-01,  2.10482473e+00,  2.45414651e-01,  5.77452164e-01,\n",
       "        5.77452164e-01,  9.02619936e-01, -4.36979687e-01,  2.52284393e-01,\n",
       "        1.75411983e-01,  2.54574307e-01, -2.07216139e+00, -1.85901621e+00,\n",
       "       -1.88649518e+00, -1.30027722e+00, -2.50935175e+00, -1.61399542e+00,\n",
       "       -6.82292282e-01,  3.58917227e-01, -8.44562939e-01,  2.81046901e-01,\n",
       "        2.80994661e-01,  3.87943105e-01, -3.95951504e-01,  4.01138288e-03,\n",
       "        4.08321295e-03,  3.63129081e-01, -1.87434494e+00, -1.36467794e+00,\n",
       "       -1.35520943e+00, -7.52163349e-01, -1.71109478e+00, -9.60470551e-01,\n",
       "       -9.75489566e-01, -5.90219193e-01, -1.59714617e+00, -1.15212624e+00,\n",
       "       -1.15235805e+00,  2.90352160e-01, -1.21667535e+00, -6.06356797e-02,\n",
       "       -6.16151807e-02,  1.42428776e+00, -2.47720361e-01,  1.08897193e+00,\n",
       "        1.08920048e+00,  1.32535816e+00,  4.21931788e-01,  6.37095496e-01,\n",
       "        6.37095496e-01,  1.81510864e+00,  6.35462994e-01,  1.28226012e+00,\n",
       "        1.28209687e+00,  1.54332977e+00,  6.80846538e-01,  1.16122972e+00,\n",
       "        1.35872359e-03,  2.94295653e+01, -1.05500000e+02,  4.18604651e-01,\n",
       "       -1.00000000e+02,  3.04583979e-03,  5.23232020e+01,  4.06000000e+01,\n",
       "        2.25378788e-01, -9.41176471e+01,  1.34020845e-02,  5.72981450e+01,\n",
       "        6.45531000e+02, -1.40138552e-01, -4.11764706e+01,  4.58333333e-01,\n",
       "        1.00000000e+00,  1.00000000e+00])"
      ]
     },
     "execution_count": 27,
     "metadata": {},
     "output_type": "execute_result"
    }
   ],
   "source": [
    "# The position is updated using update_postion() function of Game class. \n",
    "# For the illustration purpose, we have manually set to 1.\n",
    "position = 1\n",
    "state = np.append(state, _time_of_day)\n",
    "state = np.append(state, _day_of_week)\n",
    "state = np.append(state, position)\n",
    "state\n",
    "#state.shape"
   ]
  }
 ],
 "metadata": {
  "interpreter": {
   "hash": "018856fe8cea192e9aca0ec6d319ce5aaed29515e0139f12e4cf38054a146782"
  },
  "kernelspec": {
   "display_name": "Python 3.8.8 64-bit ('py38': conda)",
   "language": "python",
   "name": "python3"
  },
  "language_info": {
   "codemirror_mode": {
    "name": "ipython",
    "version": 3
   },
   "file_extension": ".py",
   "mimetype": "text/x-python",
   "name": "python",
   "nbconvert_exporter": "python",
   "pygments_lexer": "ipython3",
   "version": "3.8.8"
  },
  "orig_nbformat": 4
 },
 "nbformat": 4,
 "nbformat_minor": 2
}
